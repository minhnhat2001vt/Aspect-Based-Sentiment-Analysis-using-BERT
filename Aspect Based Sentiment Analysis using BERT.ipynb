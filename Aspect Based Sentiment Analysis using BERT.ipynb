{
  "cells": [
    {
      "cell_type": "code",
      "execution_count": 1,
      "metadata": {
        "colab": {
          "base_uri": "https://localhost:8080/"
        },
        "id": "QCm-Qniexs2d",
        "outputId": "18b8eb4b-993a-43ce-87e8-599e3981df1b"
      },
      "outputs": [
        {
          "name": "stdout",
          "output_type": "stream",
          "text": [
            "Downloading...\n",
            "From: https://drive.google.com/uc?id=1d7JABk4jViI-USjLsWmhGkvzi8uQIL5C\n",
            "To: /content/data.zip\n",
            "\r  0% 0.00/151k [00:00<?, ?B/s]\r100% 151k/151k [00:00<00:00, 25.8MB/s]\n"
          ]
        }
      ],
      "source": [
        "# Download Dataset\n",
        "!gdown 1d7JABk4jViI-USjLsWmhGkvzi8uQIL5C"
      ]
    },
    {
      "cell_type": "code",
      "execution_count": 2,
      "metadata": {
        "colab": {
          "base_uri": "https://localhost:8080/"
        },
        "id": "y3_qL8fu_5Ga",
        "outputId": "a695a5ea-b1bf-4cc4-a716-d6ee9f817b7b"
      },
      "outputs": [
        {
          "name": "stdout",
          "output_type": "stream",
          "text": [
            "Archive:  ./data.zip\n",
            "   creating: data/\n",
            "  inflating: __MACOSX/._data         \n",
            "  inflating: data/restaurants_train.csv  \n",
            "  inflating: __MACOSX/data/._restaurants_train.csv  \n",
            "  inflating: data/restaurants_test.csv  \n",
            "  inflating: __MACOSX/data/._restaurants_test.csv  \n"
          ]
        }
      ],
      "source": [
        "# Unzip Dataset\n",
        "!unzip ./data.zip"
      ]
    },
    {
      "cell_type": "markdown",
      "metadata": {
        "id": "aZB6hIY1_GNV"
      },
      "source": [
        "##**Dataset**"
      ]
    },
    {
      "cell_type": "code",
      "execution_count": 3,
      "metadata": {
        "id": "8HQLZiFh_IZL"
      },
      "outputs": [],
      "source": [
        "import torch\n",
        "from torch.utils.data import Dataset\n",
        "\n",
        "class ABSADataset(Dataset):\n",
        "    def __init__(self, df, tokenizer):\n",
        "        # Initialize the dataset with a DataFrame and a tokenizer\n",
        "        self.df = df\n",
        "        self.tokenizer = tokenizer\n",
        "\n",
        "    def __getitem__(self, idx):\n",
        "        # Retrieve tokens, tags, and polarity labels for the sample at the given index\n",
        "        tokens, tags, pols = self.df.iloc[idx, :3].values\n",
        "\n",
        "        # Convert string representations of lists into actual lists\n",
        "        tokens = tokens.replace(\"'\", \"\").strip(\"][\").split(', ')\n",
        "        tags = tags.strip('][').split(', ')\n",
        "        pols = pols.strip('][').split(', ')\n",
        "\n",
        "        bert_tokens = []  # List to store tokenized text\n",
        "        bert_att = []     # List to store tokens used in attention\n",
        "        pols_label = 0    # Initialize polarity label\n",
        "\n",
        "        for i in range(len(tokens)):\n",
        "            # Tokenize each token using the provided tokenizer\n",
        "            t = self.tokenizer.tokenize(tokens[i])\n",
        "            bert_tokens += t  # Add tokenized text to bert_tokens list\n",
        "\n",
        "            # If polarity is not -1, it indicates this token should be attended to\n",
        "            if int(pols[i]) != -1:\n",
        "                bert_att += t  # Add to the attention list\n",
        "                pols_label = int(pols[i])  # Set the polarity label\n",
        "\n",
        "        # Create segment tensor to distinguish between segments in BERT\n",
        "        segment_tensor = [0] + [0]*len(bert_tokens) + [0] + [1]*len(bert_att)\n",
        "\n",
        "        # Add special tokens [CLS] and [SEP] for BERT input format\n",
        "        bert_tokens = ['[CLS]'] + bert_tokens + ['[SEP]'] + bert_att\n",
        "\n",
        "        # Convert tokens to their corresponding IDs using the tokenizer\n",
        "        bert_ids = self.tokenizer.convert_tokens_to_ids(bert_tokens)\n",
        "\n",
        "        # Convert the IDs, polarity label, and segment information to tensors\n",
        "        ids_tensor = torch.tensor(bert_ids)\n",
        "        pols_tensor = torch.tensor(pols_label)\n",
        "        segment_tensor = torch.tensor(segment_tensor)\n",
        "\n",
        "        # Return the processed tokens, IDs, segment tensor, and polarity label\n",
        "        return bert_tokens, ids_tensor, segment_tensor, pols_tensor\n",
        "\n",
        "    def __len__(self):\n",
        "        # Return the total number of samples in the dataset\n",
        "        return len(self.df)\n"
      ]
    },
    {
      "cell_type": "markdown",
      "metadata": {
        "id": "7rj1YtachoyS"
      },
      "source": [
        "- **\\__init__(self, df, tokenizer)**\n",
        "  - Purpose: Initializes the dataset.\n",
        "  - Parameters:\n",
        "    - df: A DataFrame containing the dataset. It expects columns for tokens, tags, and polarities.\n",
        "    - tokenizer: A tokenizer object, likely from a BERT model or similar, used to tokenize the input text.\n",
        "- **\\__getitem__(self, idx)**\n",
        "  - Purpose: Retrieves a single item (data point) from the dataset.\n",
        "  - Parameters:\n",
        "    - idx: The index of the item to retrieve.\n",
        "  - Process:\n",
        "    - Data Extraction: It extracts tokens, tags, and polarities (pols) from the DataFrame at the given index.\n",
        "    - Token, Tag, and Polarity Processing:\n",
        "      - tokens: A string representing a list of tokens, which is then processed into a Python list of tokens.\n",
        "      - tags: A string representing a list of tags associated with the tokens.\n",
        "      - pols: A string representing the polarity labels associated with each token.\n",
        "- **BERT Tokenization:**\n",
        "  - Each token is further tokenized using the tokenizer (to handle subwords in BERT).\n",
        "  - bert_tokens: This list stores the tokenized text, with [CLS] and [SEP] tokens added at the beginning and end, respectively.\n",
        "  - bert_att: This list stores the tokens that are included in the attention mechanism (based on the polarity labels).\n",
        "- **Segment and ID Conversion:**\n",
        "  - segment_tensor: A tensor indicating which tokens belong to the first or second part of the input (useful in BERT for distinguishing between pairs of sentences).\n",
        "  - bert_ids: Converts the tokens into their corresponding IDs as understood by the BERT model.\n",
        "- **Tensor Creation:**\n",
        "  - ids_tensor: A tensor of the token IDs.\n",
        "  - pols_tensor: A tensor containing the polarity label for this instance.\n",
        "  - segment_tensor: A tensor used to distinguish between sentence segments in BERT.\n",
        "  - Return: It returns the tokenized text (bert_tokens), their corresponding IDs (ids_tensor), the segment information (segment_tensor), and the polarity label (pols_tensor).\n",
        "- **\\__len__(self)**\n",
        "  - Purpose: Returns the length of the dataset, i.e., the number of samples."
      ]
    },
    {
      "cell_type": "code",
      "execution_count": 4,
      "metadata": {
        "id": "2vBmzMtT_14U"
      },
      "outputs": [],
      "source": [
        "import pandas as pd\n",
        "\n",
        "train_df = pd.read_csv('./data/restaurants_train.csv')\n",
        "test_df = pd.read_csv('./data/restaurants_test.csv')"
      ]
    },
    {
      "cell_type": "code",
      "execution_count": 5,
      "metadata": {
        "colab": {
          "base_uri": "https://localhost:8080/"
        },
        "id": "VccDur9UBeZb",
        "outputId": "23a62447-cfb2-47a4-9742-aac1edb0782e"
      },
      "outputs": [
        {
          "data": {
            "text/plain": [
              "Tokens        ['But', 'the', 'staff', 'was', 'so', 'horrible...\n",
              "Tags                                [0, 0, 1, 0, 0, 0, 0, 0, 0]\n",
              "Polarities                  [-1, -1, 0, -1, -1, -1, -1, -1, -1]\n",
              "Name: 0, dtype: object"
            ]
          },
          "execution_count": 5,
          "metadata": {},
          "output_type": "execute_result"
        }
      ],
      "source": [
        "train_df.iloc[0]"
      ]
    },
    {
      "cell_type": "code",
      "execution_count": 6,
      "metadata": {
        "colab": {
          "base_uri": "https://localhost:8080/",
          "height": 249,
          "referenced_widgets": [
            "5b637e963f184ddc8c549323531beaad",
            "41c693a032604f8497e3aa5fbe9fe9f6",
            "3696e52690a34c3da7e85452c3f499ec",
            "d3057f5b9f164b0a9bee2b1001975afc",
            "73e9f2e9eed44cc6b7d76c4a8369c99e",
            "daef11acf7a944ef8697d8a45bc72d20",
            "c2380880b0534a38a83e8f151457201a",
            "7dfad3ba572f4c07954dbe5b6d59706a",
            "0784b0c9811040358dd53660ac3ace0c",
            "102aa5aa308049c8a9aaa5c35eb78753",
            "5be6dcbbc72046f9aab4dfea8f229661",
            "082415e75fcb48179a17218e70c2a16d",
            "6b23c820254741b295799dcf4c027194",
            "f306e45b44b74dfe92061c8770274be6",
            "5f0fab0fa4a74817acffa27e661e96c2",
            "c6965053019a428c994ff3fdfeb5d8c5",
            "2dd14388c3ba4111822ed23c3695e1b5",
            "d36071ace595498682abc1d102a74bc5",
            "5f4aa27b172d4933a632a5a6de49dab3",
            "e570287cc7c44103bb24f54c70341825",
            "f4562b53a7b9464db83aa41a7b310664",
            "ca48ab72ebec429a834e8c4e7a4899e7",
            "a21ac85e8c564f469356e087974a43a6",
            "f8b1da25beea4404a83d3cab7557eeab",
            "6c2df46836b74d36a1085dd7a8127f84",
            "0604cde93f234da5ad220bbf96579046",
            "391f5016d438440d95d031057c68f1a3",
            "af5b87f30ed34c4891b05dc2d2eb1c72",
            "b4096751e35842838b49a121c0d282b5",
            "e7dd527b926e4e4d8234113db7e4d688",
            "94a56d5cd8254b08b8d749b3610f81d9",
            "a1d1f516f9dd4046aab523d5998737eb",
            "d32c04ef47d1459685d49695c2247706",
            "6b49f2824e2c4cf8888282d33f9c41ef",
            "59ea9713466f4a198a6b22a0300f6981",
            "8d3ce56239d542059da4ba0ec1118eb5",
            "c8241dd25985439da0ecdff50c681c64",
            "43badf59d38c4071b8b85ecf563f1ee4",
            "635aa30e59fb4db89c17400394346fba",
            "5f22e924b588424cb25a1b96f89d141b",
            "c0e5aa2c672a4d4792001f6f4238d875",
            "1c6d4b0f66b6495181e0ab2149b3ab16",
            "a54461a24bac4f89b9b6cbff67f54682",
            "ad3dde8678064746aa76a6019415da13"
          ]
        },
        "id": "RdTe7kWqAei5",
        "outputId": "ceb5456e-3251-4d19-8635-7029b46b0419"
      },
      "outputs": [
        {
          "name": "stderr",
          "output_type": "stream",
          "text": [
            "/usr/local/lib/python3.10/dist-packages/huggingface_hub/utils/_token.py:89: UserWarning: \n",
            "The secret `HF_TOKEN` does not exist in your Colab secrets.\n",
            "To authenticate with the Hugging Face Hub, create a token in your settings tab (https://huggingface.co/settings/tokens), set it as secret in your Google Colab and restart your session.\n",
            "You will be able to reuse this secret in all of your notebooks.\n",
            "Please note that authentication is recommended but still optional to access public models or datasets.\n",
            "  warnings.warn(\n"
          ]
        },
        {
          "data": {
            "application/vnd.jupyter.widget-view+json": {
              "model_id": "5b637e963f184ddc8c549323531beaad",
              "version_major": 2,
              "version_minor": 0
            },
            "text/plain": [
              "tokenizer_config.json:   0%|          | 0.00/48.0 [00:00<?, ?B/s]"
            ]
          },
          "metadata": {},
          "output_type": "display_data"
        },
        {
          "data": {
            "application/vnd.jupyter.widget-view+json": {
              "model_id": "082415e75fcb48179a17218e70c2a16d",
              "version_major": 2,
              "version_minor": 0
            },
            "text/plain": [
              "vocab.txt:   0%|          | 0.00/232k [00:00<?, ?B/s]"
            ]
          },
          "metadata": {},
          "output_type": "display_data"
        },
        {
          "data": {
            "application/vnd.jupyter.widget-view+json": {
              "model_id": "a21ac85e8c564f469356e087974a43a6",
              "version_major": 2,
              "version_minor": 0
            },
            "text/plain": [
              "tokenizer.json:   0%|          | 0.00/466k [00:00<?, ?B/s]"
            ]
          },
          "metadata": {},
          "output_type": "display_data"
        },
        {
          "data": {
            "application/vnd.jupyter.widget-view+json": {
              "model_id": "6b49f2824e2c4cf8888282d33f9c41ef",
              "version_major": 2,
              "version_minor": 0
            },
            "text/plain": [
              "config.json:   0%|          | 0.00/570 [00:00<?, ?B/s]"
            ]
          },
          "metadata": {},
          "output_type": "display_data"
        }
      ],
      "source": [
        "from transformers import BertTokenizer\n",
        "\n",
        "model_name = \"bert-base-uncased\"\n",
        "tokenizer = BertTokenizer.from_pretrained(model_name)"
      ]
    },
    {
      "cell_type": "code",
      "execution_count": 7,
      "metadata": {
        "colab": {
          "base_uri": "https://localhost:8080/"
        },
        "id": "7b67AASAB-fC",
        "outputId": "f8f99131-cad7-4c13-fa1b-c9000af72b23"
      },
      "outputs": [
        {
          "data": {
            "text/plain": [
              "['[UNK]', '[SEP]', '[PAD]', '[CLS]', '[MASK]']"
            ]
          },
          "execution_count": 7,
          "metadata": {},
          "output_type": "execute_result"
        }
      ],
      "source": [
        "tokenizer.all_special_tokens"
      ]
    },
    {
      "cell_type": "markdown",
      "metadata": {
        "id": "pad5HAaBkbTO"
      },
      "source": [
        "- **[UNK] (Unknown Token):** This token is used to represent any word or token that is not in the model's vocabulary. If the tokenizer encounters a word it doesn't recognize, it substitutes it with [UNK].\n",
        "- **[SEP] (Separator Token):** This token is used to separate different segments of input text, such as in tasks where there are pairs of sentences or question-answer pairs. It helps the model distinguish between different parts of the input.\n",
        "- **[PAD] (Padding Token):** This token is used to pad shorter sequences to a uniform length, ensuring that all input sequences in a batch have the same length. Padding is necessary for efficient batch processing in models like BERT.\n",
        "- **[CLS] (Classification Token):** This token is added at the beginning of every input sequence. In classification tasks, the hidden state corresponding to this token is often used as the aggregate representation of the sequence for making predictions.\n",
        "- **[MASK] (Masking Token):** This token is used in masked language modeling, where certain tokens in the input are replaced with [MASK], and the model's task is to predict the original token. This technique is part of how BERT is pre-trained."
      ]
    },
    {
      "cell_type": "code",
      "execution_count": 8,
      "metadata": {
        "colab": {
          "base_uri": "https://localhost:8080/"
        },
        "id": "D4XGqw7jCuWZ",
        "outputId": "9c5fb59f-94a1-436c-f0b3-6b58a3fc9d88"
      },
      "outputs": [
        {
          "data": {
            "text/plain": [
              "101"
            ]
          },
          "execution_count": 8,
          "metadata": {},
          "output_type": "execute_result"
        }
      ],
      "source": [
        "tokenizer.cls_token_id"
      ]
    },
    {
      "cell_type": "code",
      "execution_count": 9,
      "metadata": {
        "colab": {
          "base_uri": "https://localhost:8080/"
        },
        "id": "IQc7LGiHC3Tw",
        "outputId": "66819f43-e54c-434f-85ef-dbe028cc6b5f"
      },
      "outputs": [
        {
          "data": {
            "text/plain": [
              "102"
            ]
          },
          "execution_count": 9,
          "metadata": {},
          "output_type": "execute_result"
        }
      ],
      "source": [
        "tokenizer.sep_token_id"
      ]
    },
    {
      "cell_type": "code",
      "execution_count": 10,
      "metadata": {
        "id": "eGoxRlVuAqkO"
      },
      "outputs": [],
      "source": [
        "train_ds = ABSADataset(train_df, tokenizer)\n",
        "test_ds = ABSADataset(test_df, tokenizer)"
      ]
    },
    {
      "cell_type": "code",
      "execution_count": 11,
      "metadata": {
        "colab": {
          "base_uri": "https://localhost:8080/"
        },
        "id": "T6gGCUp-BMHi",
        "outputId": "52682fdc-c703-4402-aff1-1fbc0c96283f"
      },
      "outputs": [
        {
          "data": {
            "text/plain": [
              "(['[CLS]',\n",
              "  'but',\n",
              "  'the',\n",
              "  'staff',\n",
              "  'was',\n",
              "  'so',\n",
              "  'horrible',\n",
              "  'to',\n",
              "  'us',\n",
              "  '[SEP]',\n",
              "  'staff'],\n",
              " tensor([ 101, 2021, 1996, 3095, 2001, 2061, 9202, 2000, 2149,  102, 3095]),\n",
              " tensor([0, 0, 0, 0, 0, 0, 0, 0, 0, 0, 1]),\n",
              " tensor(0))"
            ]
          },
          "execution_count": 11,
          "metadata": {},
          "output_type": "execute_result"
        }
      ],
      "source": [
        "next(iter(train_ds))"
      ]
    },
    {
      "cell_type": "code",
      "execution_count": 12,
      "metadata": {
        "id": "fya8wAmRC7Ge"
      },
      "outputs": [],
      "source": [
        "from torch.nn.utils.rnn import pad_sequence\n",
        "\n",
        "def padding(samples):\n",
        "    \"\"\"\n",
        "    Pads and processes a batch of samples for input into a model.\n",
        "\n",
        "    Args:\n",
        "        samples (list of tuples): Each tuple contains the following elements:\n",
        "            - The first element (not used here) might be the original text or tokenized text.\n",
        "            - ids_tensor (torch.Tensor): Tensor of token IDs.\n",
        "            - segments_tensor (torch.Tensor): Tensor of segment IDs.\n",
        "            - label_id (torch.Tensor): Tensor containing the label.\n",
        "\n",
        "    Returns:\n",
        "        tuple: A tuple containing:\n",
        "            - ids_tensors (torch.Tensor): Padded tensor of token IDs.\n",
        "            - segments_tensors (torch.Tensor): Padded tensor of segment IDs.\n",
        "            - masks_tensors (torch.Tensor): Attention mask tensor, indicating which tokens are real input tokens and which are padding.\n",
        "            - label_ids (torch.Tensor): Stacked tensor of labels for the batch.\n",
        "    \"\"\"\n",
        "\n",
        "    # Extract the token ID tensors from each sample in the batch\n",
        "    ids_tensors = [s[1] for s in samples]\n",
        "    # Pad the token ID sequences to ensure all sequences in the batch have the same length\n",
        "    ids_tensors = pad_sequence(ids_tensors, batch_first=True)\n",
        "\n",
        "    # Extract the segment ID tensors from each sample in the batch\n",
        "    segments_tensors = [s[2] for s in samples]\n",
        "    # Pad the segment ID sequences to ensure all sequences in the batch have the same length\n",
        "    segments_tensors = pad_sequence(segments_tensors, batch_first=True)\n",
        "\n",
        "    # Stack the label tensors from each sample into a single tensor\n",
        "    label_ids = torch.stack([s[3] for s in samples])\n",
        "\n",
        "    # Initialize an attention mask tensor with zeros, having the same shape as the padded token ID tensor\n",
        "    masks_tensors = torch.zeros(ids_tensors.shape, dtype=torch.long)\n",
        "    # Set the mask to 1 for all positions where the token ID is not 0 (indicating a non-padding token)\n",
        "    masks_tensors = masks_tensors.masked_fill(ids_tensors != 0, 1)\n",
        "\n",
        "    # Return the padded token IDs, segment IDs, attention masks, and labels\n",
        "    return ids_tensors, segments_tensors, masks_tensors, label_ids\n"
      ]
    },
    {
      "cell_type": "code",
      "execution_count": 13,
      "metadata": {
        "id": "N1eFREOMDYmg"
      },
      "outputs": [],
      "source": [
        "# Initialize Train and Test Loader\n",
        "from torch.utils.data import DataLoader\n",
        "\n",
        "batch_size = 32\n",
        "train_loader = DataLoader(\n",
        "    train_ds, batch_size=batch_size, shuffle=True, collate_fn=padding\n",
        ")\n",
        "test_loader = DataLoader(\n",
        "    test_ds, batch_size=batch_size, shuffle=True, collate_fn=padding\n",
        ")"
      ]
    },
    {
      "cell_type": "code",
      "execution_count": 14,
      "metadata": {
        "id": "R6VTQaFIufpV"
      },
      "outputs": [],
      "source": [
        "a = next (iter(train_loader))"
      ]
    },
    {
      "cell_type": "code",
      "execution_count": 15,
      "metadata": {
        "colab": {
          "base_uri": "https://localhost:8080/"
        },
        "id": "hnml2OluukF9",
        "outputId": "3fa0d7c7-8e33-456d-cee2-bb5316f731b6"
      },
      "outputs": [
        {
          "data": {
            "text/plain": [
              "(torch.Size([32, 43]),\n",
              " torch.Size([32, 43]),\n",
              " torch.Size([32, 43]),\n",
              " torch.Size([32]))"
            ]
          },
          "execution_count": 15,
          "metadata": {},
          "output_type": "execute_result"
        }
      ],
      "source": [
        "a[0].shape, a[1].shape, a[2].shape, a[3].shape"
      ]
    },
    {
      "cell_type": "markdown",
      "metadata": {
        "id": "R5KqNndiELIG"
      },
      "source": [
        "##**Model**"
      ]
    },
    {
      "cell_type": "code",
      "execution_count": 16,
      "metadata": {
        "id": "YSePW5i2ENJU"
      },
      "outputs": [],
      "source": [
        "from transformers import BertModel\n",
        "\n",
        "class ABSABert(torch.nn.Module):\n",
        "    def __init__(self, model_name):\n",
        "        # Initialize the parent class (torch.nn.Module)\n",
        "        super(ABSABert, self).__init__()\n",
        "\n",
        "        # Load a pre-trained BERT model using the specified model name\n",
        "        self.bert = BertModel.from_pretrained(model_name)\n",
        "\n",
        "        # Define a linear layer that maps the output from BERT's hidden size to 3 classes (for classification)\n",
        "        self.linear = torch.nn.Linear(self.bert.config.hidden_size, 3)\n",
        "\n",
        "        # Define the loss function, Cross Entropy Loss, which is commonly used for multi-class classification\n",
        "        self.loss_fn = torch.nn.CrossEntropyLoss()\n",
        "\n",
        "    def forward(self, ids_tensors, masks_tensors, segments_tensors, lable_tensors=None):\n",
        "        # Pass the input tensors through the BERT model\n",
        "        out_dict = self.bert(\n",
        "            input_ids=ids_tensors,        # Token IDs from the input text\n",
        "            attention_mask=masks_tensors, # Attention masks to differentiate real tokens from padding tokens\n",
        "            token_type_ids=segments_tensors # Segment IDs to distinguish between different parts of the input\n",
        "        )\n",
        "\n",
        "        # Apply the linear layer to the output of BERT's pooled output (the representation of the [CLS] token)\n",
        "        linear_outputs = self.linear(out_dict['pooler_output'])\n",
        "\n",
        "        # If label tensors are provided (during training), calculate the loss\n",
        "        if lable_tensors is not None:\n",
        "            loss = self.loss_fn(linear_outputs, lable_tensors)\n",
        "            # Return both the loss and the linear output (logits)\n",
        "            return loss, linear_outputs\n",
        "        else:\n",
        "            # If label tensors are not provided (during inference), return only the linear output (logits)\n",
        "            return linear_outputs\n"
      ]
    },
    {
      "cell_type": "code",
      "execution_count": 17,
      "metadata": {
        "colab": {
          "base_uri": "https://localhost:8080/",
          "height": 49,
          "referenced_widgets": [
            "f12e78a66af349cebed212df16248170",
            "9d6204ee73bd45fa9ace54efd2dd2e9c",
            "d09c40207fb34812bb3edf37af6b53ec",
            "661cdd3615f14d2e9f73016fef02fa75",
            "ab003141141849f498616b7a6cb1e45f",
            "22c14b902c424c4294aa66bb6a6e1114",
            "d8d71b22b9444718b2c24ce317c715b7",
            "7e69bc7540874e54bc3565144b68077f",
            "0cc110c57c3b4e929f6ad26f36f4b42d",
            "442b374419984f72b8dc82351e490ff0",
            "70a6fcc49a5840e1add1bae9c9e8298c"
          ]
        },
        "id": "R6H-d06XEzRT",
        "outputId": "d8aa33cc-dfe2-4ab2-e405-7169771dc1bd"
      },
      "outputs": [
        {
          "data": {
            "application/vnd.jupyter.widget-view+json": {
              "model_id": "f12e78a66af349cebed212df16248170",
              "version_major": 2,
              "version_minor": 0
            },
            "text/plain": [
              "model.safetensors:   0%|          | 0.00/440M [00:00<?, ?B/s]"
            ]
          },
          "metadata": {},
          "output_type": "display_data"
        }
      ],
      "source": [
        "model = ABSABert(model_name)"
      ]
    },
    {
      "cell_type": "code",
      "execution_count": 18,
      "metadata": {
        "colab": {
          "base_uri": "https://localhost:8080/"
        },
        "id": "GuFp9jxhE2Av",
        "outputId": "84a49af7-20aa-4ea1-dc4d-625bc81bab46"
      },
      "outputs": [
        {
          "data": {
            "text/plain": [
              "device(type='cuda')"
            ]
          },
          "execution_count": 18,
          "metadata": {},
          "output_type": "execute_result"
        }
      ],
      "source": [
        "device = torch.device(\"cuda\" if torch.cuda.is_available() else \"cpu\")\n",
        "device"
      ]
    },
    {
      "cell_type": "code",
      "execution_count": 19,
      "metadata": {
        "colab": {
          "base_uri": "https://localhost:8080/"
        },
        "id": "S3YzgUr1FBlo",
        "outputId": "1e281394-63b5-4e93-c208-76ace1101859"
      },
      "outputs": [
        {
          "data": {
            "text/plain": [
              "ABSABert(\n",
              "  (bert): BertModel(\n",
              "    (embeddings): BertEmbeddings(\n",
              "      (word_embeddings): Embedding(30522, 768, padding_idx=0)\n",
              "      (position_embeddings): Embedding(512, 768)\n",
              "      (token_type_embeddings): Embedding(2, 768)\n",
              "      (LayerNorm): LayerNorm((768,), eps=1e-12, elementwise_affine=True)\n",
              "      (dropout): Dropout(p=0.1, inplace=False)\n",
              "    )\n",
              "    (encoder): BertEncoder(\n",
              "      (layer): ModuleList(\n",
              "        (0-11): 12 x BertLayer(\n",
              "          (attention): BertAttention(\n",
              "            (self): BertSdpaSelfAttention(\n",
              "              (query): Linear(in_features=768, out_features=768, bias=True)\n",
              "              (key): Linear(in_features=768, out_features=768, bias=True)\n",
              "              (value): Linear(in_features=768, out_features=768, bias=True)\n",
              "              (dropout): Dropout(p=0.1, inplace=False)\n",
              "            )\n",
              "            (output): BertSelfOutput(\n",
              "              (dense): Linear(in_features=768, out_features=768, bias=True)\n",
              "              (LayerNorm): LayerNorm((768,), eps=1e-12, elementwise_affine=True)\n",
              "              (dropout): Dropout(p=0.1, inplace=False)\n",
              "            )\n",
              "          )\n",
              "          (intermediate): BertIntermediate(\n",
              "            (dense): Linear(in_features=768, out_features=3072, bias=True)\n",
              "            (intermediate_act_fn): GELUActivation()\n",
              "          )\n",
              "          (output): BertOutput(\n",
              "            (dense): Linear(in_features=3072, out_features=768, bias=True)\n",
              "            (LayerNorm): LayerNorm((768,), eps=1e-12, elementwise_affine=True)\n",
              "            (dropout): Dropout(p=0.1, inplace=False)\n",
              "          )\n",
              "        )\n",
              "      )\n",
              "    )\n",
              "    (pooler): BertPooler(\n",
              "      (dense): Linear(in_features=768, out_features=768, bias=True)\n",
              "      (activation): Tanh()\n",
              "    )\n",
              "  )\n",
              "  (linear): Linear(in_features=768, out_features=3, bias=True)\n",
              "  (loss_fn): CrossEntropyLoss()\n",
              ")"
            ]
          },
          "execution_count": 19,
          "metadata": {},
          "output_type": "execute_result"
        }
      ],
      "source": [
        "model.to(device)"
      ]
    },
    {
      "cell_type": "code",
      "execution_count": 20,
      "metadata": {
        "id": "7YVK29c_FheI"
      },
      "outputs": [],
      "source": [
        "import time\n",
        "import numpy as np\n",
        "\n",
        "def train_epoch(model, optimizer, train_loader, device):\n",
        "    losses = []\n",
        "    for batch in (train_loader):\n",
        "        ids_tensors, segments_tensors, masks_tensors, label_ids = batch\n",
        "        ids_tensors = ids_tensors.to(device)\n",
        "        segments_tensors = segments_tensors.to(device)\n",
        "        label_ids = label_ids.to(device)\n",
        "        masks_tensors = masks_tensors.to(device)\n",
        "\n",
        "        loss, _ = model(\n",
        "            ids_tensors=ids_tensors,\n",
        "            masks_tensors=masks_tensors,\n",
        "            segments_tensors=segments_tensors,\n",
        "            lable_tensors=label_ids\n",
        "        )\n",
        "        losses.append(loss.item())\n",
        "        loss.backward()\n",
        "        optimizer.step()\n",
        "        optimizer.zero_grad()\n",
        "    return sum(losses)/len(losses)\n",
        "\n",
        "def evaluate_epoch(model, valid_loader, device):\n",
        "    losses = []\n",
        "\n",
        "    preds, labels = [], []\n",
        "    with torch.no_grad():\n",
        "        for batch in (valid_loader):\n",
        "            ids_tensors, segments_tensors, masks_tensors, label_ids = batch\n",
        "            ids_tensors = ids_tensors.to(device)\n",
        "            segments_tensors = segments_tensors.to(device)\n",
        "            masks_tensors = masks_tensors.to(device)\n",
        "            label_ids = label_ids.to(device)\n",
        "\n",
        "            loss, outputs = model(\n",
        "                ids_tensors=ids_tensors,\n",
        "                masks_tensors=masks_tensors,\n",
        "                segments_tensors=segments_tensors,\n",
        "                lable_tensors=label_ids\n",
        "            )\n",
        "            losses.append(loss.item())\n",
        "\n",
        "            _, p = torch.max(outputs, dim=1)\n",
        "            preds += list([int(i) for i in p])\n",
        "            labels += list([int(i) for i in label_ids])\n",
        "\n",
        "    acc = np.mean(np.array(preds) == np.array(labels))\n",
        "    return sum(losses)/len(losses), acc\n",
        "\n",
        "def train(model, model_name, save_model, optimizer, train_loader, valid_loader, num_epochs, device):\n",
        "    train_losses = []\n",
        "    eval_accs, eval_losses = [], []\n",
        "    best_loss_eval = 100\n",
        "    times = []\n",
        "    for epoch in range(1, num_epochs+1):\n",
        "        epoch_start_time = time.time()\n",
        "        # Training\n",
        "        train_loss = train_epoch(model, optimizer, train_loader, device)\n",
        "        train_losses.append(train_loss)\n",
        "\n",
        "        # Evaluation\n",
        "        eval_loss, eval_acc = evaluate_epoch(model, valid_loader, device)\n",
        "        eval_accs.append(eval_acc)\n",
        "        eval_losses.append(eval_loss)\n",
        "\n",
        "        # Save best model\n",
        "        if eval_loss < best_loss_eval:\n",
        "            torch.save(model.state_dict(), save_model + f'/{model_name}.pt')\n",
        "\n",
        "        times.append(time.time() - epoch_start_time)\n",
        "        # Print loss, acc end epoch\n",
        "        print(\"-\" * 59)\n",
        "        print(\n",
        "            \"| End of epoch {:3d} | Time: {:5.2f}s | Train Loss {:8.3f} \"\n",
        "            \"| Valid Accuracy {:8.3f} | Valid Loss {:8.3f} \".format(\n",
        "                epoch, time.time() - epoch_start_time, train_loss, eval_acc, eval_loss\n",
        "            )\n",
        "        )\n",
        "        print(\"-\" * 59)\n",
        "\n",
        "    # Load best model\n",
        "    model.load_state_dict(torch.load(save_model + f'/{model_name}.pt'))\n",
        "    model.eval()\n",
        "    metrics = {\n",
        "        'train_loss': train_losses,\n",
        "        'valid_accuracy': eval_accs,\n",
        "        'valid_loss': eval_losses,\n",
        "        'time': times\n",
        "    }\n",
        "    return model, metrics"
      ]
    },
    {
      "cell_type": "code",
      "execution_count": 21,
      "metadata": {
        "id": "_1gnIKSKFTcy"
      },
      "outputs": [],
      "source": [
        "optimizer = torch.optim.AdamW(model.parameters(), lr=1e-5)"
      ]
    },
    {
      "cell_type": "code",
      "execution_count": 22,
      "metadata": {
        "colab": {
          "base_uri": "https://localhost:8080/"
        },
        "id": "0-Snf1ujGegy",
        "outputId": "887cd771-8f72-4f76-b8bc-f3a4cffb4507"
      },
      "outputs": [
        {
          "data": {
            "text/plain": [
              "0.8333718278239258"
            ]
          },
          "execution_count": 22,
          "metadata": {},
          "output_type": "execute_result"
        }
      ],
      "source": [
        "loss = train_epoch(model, optimizer, train_loader, device)\n",
        "loss"
      ]
    },
    {
      "cell_type": "code",
      "execution_count": 23,
      "metadata": {
        "colab": {
          "base_uri": "https://localhost:8080/"
        },
        "id": "M6NLnLFHMvFL",
        "outputId": "5cd7294a-f450-4bb9-d143-c853bcb57a23"
      },
      "outputs": [
        {
          "data": {
            "text/plain": [
              "(0.5790388328688485, 0.7640750670241286)"
            ]
          },
          "execution_count": 23,
          "metadata": {},
          "output_type": "execute_result"
        }
      ],
      "source": [
        "loss, acc = evaluate_epoch(model, test_loader, device)\n",
        "loss, acc"
      ]
    },
    {
      "cell_type": "markdown",
      "metadata": {
        "id": "cTa_h-LeOQKs"
      },
      "source": [
        "##**Training**"
      ]
    },
    {
      "cell_type": "code",
      "execution_count": 24,
      "metadata": {
        "id": "ZfzkpCoxPBTK"
      },
      "outputs": [],
      "source": [
        "# Create directory to save model's weights\n",
        "mkdir \"./model\""
      ]
    },
    {
      "cell_type": "code",
      "execution_count": 25,
      "metadata": {
        "colab": {
          "base_uri": "https://localhost:8080/"
        },
        "id": "RXUtw_QRNzxm",
        "outputId": "16c5f13c-218d-4a8a-c0f4-f0b9cbfa4f4d"
      },
      "outputs": [
        {
          "name": "stdout",
          "output_type": "stream",
          "text": [
            "-----------------------------------------------------------\n",
            "| End of epoch   1 | Time: 41.14s | Train Loss    0.814 | Valid Accuracy    0.761 | Valid Loss    0.621 \n",
            "-----------------------------------------------------------\n",
            "-----------------------------------------------------------\n",
            "| End of epoch   2 | Time: 37.18s | Train Loss    0.524 | Valid Accuracy    0.796 | Valid Loss    0.522 \n",
            "-----------------------------------------------------------\n",
            "-----------------------------------------------------------\n",
            "| End of epoch   3 | Time: 41.25s | Train Loss    0.321 | Valid Accuracy    0.793 | Valid Loss    0.526 \n",
            "-----------------------------------------------------------\n",
            "-----------------------------------------------------------\n",
            "| End of epoch   4 | Time: 36.68s | Train Loss    0.201 | Valid Accuracy    0.807 | Valid Loss    0.551 \n",
            "-----------------------------------------------------------\n",
            "-----------------------------------------------------------\n",
            "| End of epoch   5 | Time: 38.33s | Train Loss    0.124 | Valid Accuracy    0.794 | Valid Loss    0.633 \n",
            "-----------------------------------------------------------\n",
            "-----------------------------------------------------------\n",
            "| End of epoch   6 | Time: 37.18s | Train Loss    0.080 | Valid Accuracy    0.806 | Valid Loss    0.637 \n",
            "-----------------------------------------------------------\n",
            "-----------------------------------------------------------\n",
            "| End of epoch   7 | Time: 41.37s | Train Loss    0.048 | Valid Accuracy    0.799 | Valid Loss    0.784 \n",
            "-----------------------------------------------------------\n",
            "-----------------------------------------------------------\n",
            "| End of epoch   8 | Time: 36.72s | Train Loss    0.031 | Valid Accuracy    0.803 | Valid Loss    0.784 \n",
            "-----------------------------------------------------------\n",
            "-----------------------------------------------------------\n",
            "| End of epoch   9 | Time: 36.91s | Train Loss    0.028 | Valid Accuracy    0.809 | Valid Loss    0.766 \n",
            "-----------------------------------------------------------\n",
            "-----------------------------------------------------------\n",
            "| End of epoch  10 | Time: 37.08s | Train Loss    0.022 | Valid Accuracy    0.800 | Valid Loss    0.801 \n",
            "-----------------------------------------------------------\n",
            "-----------------------------------------------------------\n",
            "| End of epoch  11 | Time: 36.83s | Train Loss    0.021 | Valid Accuracy    0.803 | Valid Loss    0.781 \n",
            "-----------------------------------------------------------\n",
            "-----------------------------------------------------------\n",
            "| End of epoch  12 | Time: 38.25s | Train Loss    0.019 | Valid Accuracy    0.803 | Valid Loss    0.816 \n",
            "-----------------------------------------------------------\n",
            "-----------------------------------------------------------\n",
            "| End of epoch  13 | Time: 38.79s | Train Loss    0.015 | Valid Accuracy    0.803 | Valid Loss    0.902 \n",
            "-----------------------------------------------------------\n",
            "-----------------------------------------------------------\n",
            "| End of epoch  14 | Time: 36.68s | Train Loss    0.007 | Valid Accuracy    0.805 | Valid Loss    0.858 \n",
            "-----------------------------------------------------------\n",
            "-----------------------------------------------------------\n",
            "| End of epoch  15 | Time: 41.66s | Train Loss    0.005 | Valid Accuracy    0.806 | Valid Loss    0.903 \n",
            "-----------------------------------------------------------\n",
            "-----------------------------------------------------------\n",
            "| End of epoch  16 | Time: 36.74s | Train Loss    0.005 | Valid Accuracy    0.807 | Valid Loss    0.885 \n",
            "-----------------------------------------------------------\n",
            "-----------------------------------------------------------\n",
            "| End of epoch  17 | Time: 36.30s | Train Loss    0.005 | Valid Accuracy    0.804 | Valid Loss    0.904 \n",
            "-----------------------------------------------------------\n",
            "-----------------------------------------------------------\n",
            "| End of epoch  18 | Time: 37.15s | Train Loss    0.005 | Valid Accuracy    0.809 | Valid Loss    0.955 \n",
            "-----------------------------------------------------------\n",
            "-----------------------------------------------------------\n",
            "| End of epoch  19 | Time: 36.58s | Train Loss    0.004 | Valid Accuracy    0.808 | Valid Loss    0.923 \n",
            "-----------------------------------------------------------\n",
            "-----------------------------------------------------------\n",
            "| End of epoch  20 | Time: 36.33s | Train Loss    0.004 | Valid Accuracy    0.811 | Valid Loss    0.950 \n",
            "-----------------------------------------------------------\n"
          ]
        }
      ],
      "source": [
        "save_model = \"./model\"\n",
        "model = ABSABert(model_name)\n",
        "device = torch.device(\"cuda\" if torch.cuda.is_available() else \"cpu\")\n",
        "model.to(device)\n",
        "optimizer = torch.optim.AdamW(model.parameters(), lr=1e-5)\n",
        "num_epochs = 20\n",
        "best_model, metrics = train(\n",
        "    model, model_name, save_model, optimizer, train_loader, test_loader, num_epochs, device\n",
        ")"
      ]
    },
    {
      "cell_type": "markdown",
      "metadata": {
        "id": "3zwdUW4UOSZM"
      },
      "source": [
        "##**Prediction**"
      ]
    },
    {
      "cell_type": "code",
      "execution_count": 26,
      "metadata": {
        "colab": {
          "base_uri": "https://localhost:8080/"
        },
        "id": "Tjz6fmp7OVAV",
        "outputId": "c50755d1-7f25-4db6-952e-49654d32cb84"
      },
      "outputs": [
        {
          "data": {
            "text/plain": [
              "Tokens        ['The', 'bread', 'is', 'top', 'notch', 'as', '...\n",
              "Tags                                   [0, 1, 0, 0, 0, 0, 0, 0]\n",
              "Polarities                      [-1, 2, -1, -1, -1, -1, -1, -1]\n",
              "Name: 0, dtype: object"
            ]
          },
          "execution_count": 26,
          "metadata": {},
          "output_type": "execute_result"
        }
      ],
      "source": [
        "test_df.iloc[0]"
      ]
    },
    {
      "cell_type": "code",
      "execution_count": 27,
      "metadata": {
        "id": "PsJNTeueRvTj"
      },
      "outputs": [],
      "source": [
        "def predict(model, tokenizer, sentence, aspect, device):\n",
        "    t1 = tokenizer.tokenize(sentence)\n",
        "    t2 = tokenizer.tokenize(aspect)\n",
        "\n",
        "    word_pieces = ['[CLS]'] + t1 + ['[SEP]'] + t2\n",
        "\n",
        "    segment_tensor = [0] + [0]*len(t1) + [0] + [1]*len(t2)\n",
        "\n",
        "    input_ids = tokenizer.convert_tokens_to_ids(word_pieces)\n",
        "    input_tensor = torch.tensor([input_ids]).to(device)\n",
        "    segment_tensor = torch.tensor([segment_tensor]).to(device)\n",
        "\n",
        "    with torch.no_grad():\n",
        "        outputs = model(input_tensor, None, segment_tensor, None)\n",
        "        _, predictions = torch.max(outputs, dim=1)\n",
        "\n",
        "    return word_pieces, int(predictions), outputs"
      ]
    },
    {
      "cell_type": "code",
      "execution_count": 28,
      "metadata": {
        "colab": {
          "base_uri": "https://localhost:8080/",
          "height": 35
        },
        "id": "U75HYhFaT2g4",
        "outputId": "a5977baa-9712-45ea-c9d8-b9fb4cddfc95"
      },
      "outputs": [
        {
          "data": {
            "application/vnd.google.colaboratory.intrinsic+json": {
              "type": "string"
            },
            "text/plain": [
              "'The bread is top notch as well'"
            ]
          },
          "execution_count": 28,
          "metadata": {},
          "output_type": "execute_result"
        }
      ],
      "source": [
        "\" \".join(test_df.iloc[0][\"Tokens\"].replace(\"'\", \"\").strip(\"][\").split(', '))"
      ]
    },
    {
      "cell_type": "code",
      "execution_count": 29,
      "metadata": {
        "colab": {
          "base_uri": "https://localhost:8080/"
        },
        "id": "t-4kEksnSaFr",
        "outputId": "6f6361a5-b745-4f1b-906b-2841696b828c"
      },
      "outputs": [
        {
          "data": {
            "text/plain": [
              "(['[CLS]',\n",
              "  'the',\n",
              "  'bread',\n",
              "  'is',\n",
              "  'top',\n",
              "  'notch',\n",
              "  'as',\n",
              "  'well',\n",
              "  '[SEP]',\n",
              "  'bread'],\n",
              " 2,\n",
              " tensor([[-1.9999, -4.0468,  5.3199]], device='cuda:0'))"
            ]
          },
          "execution_count": 29,
          "metadata": {},
          "output_type": "execute_result"
        }
      ],
      "source": [
        "sentence = \" \".join(test_df.iloc[0][\"Tokens\"].replace(\"'\", \"\").strip(\"][\").split(', '))\n",
        "aspect = \"bread\"\n",
        "predict(best_model, tokenizer, sentence, aspect, device)"
      ]
    },
    {
      "cell_type": "code",
      "execution_count": null,
      "metadata": {
        "id": "jmax73BY3kRm"
      },
      "outputs": [],
      "source": []
    }
  ],
  "metadata": {
    "accelerator": "GPU",
    "colab": {
      "gpuType": "T4",
      "provenance": [],
      "toc_visible": true
    },
    "kernelspec": {
      "display_name": "Python 3",
      "name": "python3"
    },
    "language_info": {
      "name": "python"
    },
    "widgets": {
      "application/vnd.jupyter.widget-state+json": {
        "0604cde93f234da5ad220bbf96579046": {
          "model_module": "@jupyter-widgets/controls",
          "model_module_version": "1.5.0",
          "model_name": "HTMLModel",
          "state": {
            "_dom_classes": [],
            "_model_module": "@jupyter-widgets/controls",
            "_model_module_version": "1.5.0",
            "_model_name": "HTMLModel",
            "_view_count": null,
            "_view_module": "@jupyter-widgets/controls",
            "_view_module_version": "1.5.0",
            "_view_name": "HTMLView",
            "description": "",
            "description_tooltip": null,
            "layout": "IPY_MODEL_a1d1f516f9dd4046aab523d5998737eb",
            "placeholder": "​",
            "style": "IPY_MODEL_d32c04ef47d1459685d49695c2247706",
            "value": " 466k/466k [00:00&lt;00:00, 24.7MB/s]"
          }
        },
        "0784b0c9811040358dd53660ac3ace0c": {
          "model_module": "@jupyter-widgets/controls",
          "model_module_version": "1.5.0",
          "model_name": "ProgressStyleModel",
          "state": {
            "_model_module": "@jupyter-widgets/controls",
            "_model_module_version": "1.5.0",
            "_model_name": "ProgressStyleModel",
            "_view_count": null,
            "_view_module": "@jupyter-widgets/base",
            "_view_module_version": "1.2.0",
            "_view_name": "StyleView",
            "bar_color": null,
            "description_width": ""
          }
        },
        "082415e75fcb48179a17218e70c2a16d": {
          "model_module": "@jupyter-widgets/controls",
          "model_module_version": "1.5.0",
          "model_name": "HBoxModel",
          "state": {
            "_dom_classes": [],
            "_model_module": "@jupyter-widgets/controls",
            "_model_module_version": "1.5.0",
            "_model_name": "HBoxModel",
            "_view_count": null,
            "_view_module": "@jupyter-widgets/controls",
            "_view_module_version": "1.5.0",
            "_view_name": "HBoxView",
            "box_style": "",
            "children": [
              "IPY_MODEL_6b23c820254741b295799dcf4c027194",
              "IPY_MODEL_f306e45b44b74dfe92061c8770274be6",
              "IPY_MODEL_5f0fab0fa4a74817acffa27e661e96c2"
            ],
            "layout": "IPY_MODEL_c6965053019a428c994ff3fdfeb5d8c5"
          }
        },
        "0cc110c57c3b4e929f6ad26f36f4b42d": {
          "model_module": "@jupyter-widgets/controls",
          "model_module_version": "1.5.0",
          "model_name": "ProgressStyleModel",
          "state": {
            "_model_module": "@jupyter-widgets/controls",
            "_model_module_version": "1.5.0",
            "_model_name": "ProgressStyleModel",
            "_view_count": null,
            "_view_module": "@jupyter-widgets/base",
            "_view_module_version": "1.2.0",
            "_view_name": "StyleView",
            "bar_color": null,
            "description_width": ""
          }
        },
        "102aa5aa308049c8a9aaa5c35eb78753": {
          "model_module": "@jupyter-widgets/base",
          "model_module_version": "1.2.0",
          "model_name": "LayoutModel",
          "state": {
            "_model_module": "@jupyter-widgets/base",
            "_model_module_version": "1.2.0",
            "_model_name": "LayoutModel",
            "_view_count": null,
            "_view_module": "@jupyter-widgets/base",
            "_view_module_version": "1.2.0",
            "_view_name": "LayoutView",
            "align_content": null,
            "align_items": null,
            "align_self": null,
            "border": null,
            "bottom": null,
            "display": null,
            "flex": null,
            "flex_flow": null,
            "grid_area": null,
            "grid_auto_columns": null,
            "grid_auto_flow": null,
            "grid_auto_rows": null,
            "grid_column": null,
            "grid_gap": null,
            "grid_row": null,
            "grid_template_areas": null,
            "grid_template_columns": null,
            "grid_template_rows": null,
            "height": null,
            "justify_content": null,
            "justify_items": null,
            "left": null,
            "margin": null,
            "max_height": null,
            "max_width": null,
            "min_height": null,
            "min_width": null,
            "object_fit": null,
            "object_position": null,
            "order": null,
            "overflow": null,
            "overflow_x": null,
            "overflow_y": null,
            "padding": null,
            "right": null,
            "top": null,
            "visibility": null,
            "width": null
          }
        },
        "1c6d4b0f66b6495181e0ab2149b3ab16": {
          "model_module": "@jupyter-widgets/controls",
          "model_module_version": "1.5.0",
          "model_name": "ProgressStyleModel",
          "state": {
            "_model_module": "@jupyter-widgets/controls",
            "_model_module_version": "1.5.0",
            "_model_name": "ProgressStyleModel",
            "_view_count": null,
            "_view_module": "@jupyter-widgets/base",
            "_view_module_version": "1.2.0",
            "_view_name": "StyleView",
            "bar_color": null,
            "description_width": ""
          }
        },
        "22c14b902c424c4294aa66bb6a6e1114": {
          "model_module": "@jupyter-widgets/base",
          "model_module_version": "1.2.0",
          "model_name": "LayoutModel",
          "state": {
            "_model_module": "@jupyter-widgets/base",
            "_model_module_version": "1.2.0",
            "_model_name": "LayoutModel",
            "_view_count": null,
            "_view_module": "@jupyter-widgets/base",
            "_view_module_version": "1.2.0",
            "_view_name": "LayoutView",
            "align_content": null,
            "align_items": null,
            "align_self": null,
            "border": null,
            "bottom": null,
            "display": null,
            "flex": null,
            "flex_flow": null,
            "grid_area": null,
            "grid_auto_columns": null,
            "grid_auto_flow": null,
            "grid_auto_rows": null,
            "grid_column": null,
            "grid_gap": null,
            "grid_row": null,
            "grid_template_areas": null,
            "grid_template_columns": null,
            "grid_template_rows": null,
            "height": null,
            "justify_content": null,
            "justify_items": null,
            "left": null,
            "margin": null,
            "max_height": null,
            "max_width": null,
            "min_height": null,
            "min_width": null,
            "object_fit": null,
            "object_position": null,
            "order": null,
            "overflow": null,
            "overflow_x": null,
            "overflow_y": null,
            "padding": null,
            "right": null,
            "top": null,
            "visibility": null,
            "width": null
          }
        },
        "2dd14388c3ba4111822ed23c3695e1b5": {
          "model_module": "@jupyter-widgets/base",
          "model_module_version": "1.2.0",
          "model_name": "LayoutModel",
          "state": {
            "_model_module": "@jupyter-widgets/base",
            "_model_module_version": "1.2.0",
            "_model_name": "LayoutModel",
            "_view_count": null,
            "_view_module": "@jupyter-widgets/base",
            "_view_module_version": "1.2.0",
            "_view_name": "LayoutView",
            "align_content": null,
            "align_items": null,
            "align_self": null,
            "border": null,
            "bottom": null,
            "display": null,
            "flex": null,
            "flex_flow": null,
            "grid_area": null,
            "grid_auto_columns": null,
            "grid_auto_flow": null,
            "grid_auto_rows": null,
            "grid_column": null,
            "grid_gap": null,
            "grid_row": null,
            "grid_template_areas": null,
            "grid_template_columns": null,
            "grid_template_rows": null,
            "height": null,
            "justify_content": null,
            "justify_items": null,
            "left": null,
            "margin": null,
            "max_height": null,
            "max_width": null,
            "min_height": null,
            "min_width": null,
            "object_fit": null,
            "object_position": null,
            "order": null,
            "overflow": null,
            "overflow_x": null,
            "overflow_y": null,
            "padding": null,
            "right": null,
            "top": null,
            "visibility": null,
            "width": null
          }
        },
        "3696e52690a34c3da7e85452c3f499ec": {
          "model_module": "@jupyter-widgets/controls",
          "model_module_version": "1.5.0",
          "model_name": "FloatProgressModel",
          "state": {
            "_dom_classes": [],
            "_model_module": "@jupyter-widgets/controls",
            "_model_module_version": "1.5.0",
            "_model_name": "FloatProgressModel",
            "_view_count": null,
            "_view_module": "@jupyter-widgets/controls",
            "_view_module_version": "1.5.0",
            "_view_name": "ProgressView",
            "bar_style": "success",
            "description": "",
            "description_tooltip": null,
            "layout": "IPY_MODEL_7dfad3ba572f4c07954dbe5b6d59706a",
            "max": 48,
            "min": 0,
            "orientation": "horizontal",
            "style": "IPY_MODEL_0784b0c9811040358dd53660ac3ace0c",
            "value": 48
          }
        },
        "391f5016d438440d95d031057c68f1a3": {
          "model_module": "@jupyter-widgets/base",
          "model_module_version": "1.2.0",
          "model_name": "LayoutModel",
          "state": {
            "_model_module": "@jupyter-widgets/base",
            "_model_module_version": "1.2.0",
            "_model_name": "LayoutModel",
            "_view_count": null,
            "_view_module": "@jupyter-widgets/base",
            "_view_module_version": "1.2.0",
            "_view_name": "LayoutView",
            "align_content": null,
            "align_items": null,
            "align_self": null,
            "border": null,
            "bottom": null,
            "display": null,
            "flex": null,
            "flex_flow": null,
            "grid_area": null,
            "grid_auto_columns": null,
            "grid_auto_flow": null,
            "grid_auto_rows": null,
            "grid_column": null,
            "grid_gap": null,
            "grid_row": null,
            "grid_template_areas": null,
            "grid_template_columns": null,
            "grid_template_rows": null,
            "height": null,
            "justify_content": null,
            "justify_items": null,
            "left": null,
            "margin": null,
            "max_height": null,
            "max_width": null,
            "min_height": null,
            "min_width": null,
            "object_fit": null,
            "object_position": null,
            "order": null,
            "overflow": null,
            "overflow_x": null,
            "overflow_y": null,
            "padding": null,
            "right": null,
            "top": null,
            "visibility": null,
            "width": null
          }
        },
        "41c693a032604f8497e3aa5fbe9fe9f6": {
          "model_module": "@jupyter-widgets/controls",
          "model_module_version": "1.5.0",
          "model_name": "HTMLModel",
          "state": {
            "_dom_classes": [],
            "_model_module": "@jupyter-widgets/controls",
            "_model_module_version": "1.5.0",
            "_model_name": "HTMLModel",
            "_view_count": null,
            "_view_module": "@jupyter-widgets/controls",
            "_view_module_version": "1.5.0",
            "_view_name": "HTMLView",
            "description": "",
            "description_tooltip": null,
            "layout": "IPY_MODEL_daef11acf7a944ef8697d8a45bc72d20",
            "placeholder": "​",
            "style": "IPY_MODEL_c2380880b0534a38a83e8f151457201a",
            "value": "tokenizer_config.json: 100%"
          }
        },
        "43badf59d38c4071b8b85ecf563f1ee4": {
          "model_module": "@jupyter-widgets/base",
          "model_module_version": "1.2.0",
          "model_name": "LayoutModel",
          "state": {
            "_model_module": "@jupyter-widgets/base",
            "_model_module_version": "1.2.0",
            "_model_name": "LayoutModel",
            "_view_count": null,
            "_view_module": "@jupyter-widgets/base",
            "_view_module_version": "1.2.0",
            "_view_name": "LayoutView",
            "align_content": null,
            "align_items": null,
            "align_self": null,
            "border": null,
            "bottom": null,
            "display": null,
            "flex": null,
            "flex_flow": null,
            "grid_area": null,
            "grid_auto_columns": null,
            "grid_auto_flow": null,
            "grid_auto_rows": null,
            "grid_column": null,
            "grid_gap": null,
            "grid_row": null,
            "grid_template_areas": null,
            "grid_template_columns": null,
            "grid_template_rows": null,
            "height": null,
            "justify_content": null,
            "justify_items": null,
            "left": null,
            "margin": null,
            "max_height": null,
            "max_width": null,
            "min_height": null,
            "min_width": null,
            "object_fit": null,
            "object_position": null,
            "order": null,
            "overflow": null,
            "overflow_x": null,
            "overflow_y": null,
            "padding": null,
            "right": null,
            "top": null,
            "visibility": null,
            "width": null
          }
        },
        "442b374419984f72b8dc82351e490ff0": {
          "model_module": "@jupyter-widgets/base",
          "model_module_version": "1.2.0",
          "model_name": "LayoutModel",
          "state": {
            "_model_module": "@jupyter-widgets/base",
            "_model_module_version": "1.2.0",
            "_model_name": "LayoutModel",
            "_view_count": null,
            "_view_module": "@jupyter-widgets/base",
            "_view_module_version": "1.2.0",
            "_view_name": "LayoutView",
            "align_content": null,
            "align_items": null,
            "align_self": null,
            "border": null,
            "bottom": null,
            "display": null,
            "flex": null,
            "flex_flow": null,
            "grid_area": null,
            "grid_auto_columns": null,
            "grid_auto_flow": null,
            "grid_auto_rows": null,
            "grid_column": null,
            "grid_gap": null,
            "grid_row": null,
            "grid_template_areas": null,
            "grid_template_columns": null,
            "grid_template_rows": null,
            "height": null,
            "justify_content": null,
            "justify_items": null,
            "left": null,
            "margin": null,
            "max_height": null,
            "max_width": null,
            "min_height": null,
            "min_width": null,
            "object_fit": null,
            "object_position": null,
            "order": null,
            "overflow": null,
            "overflow_x": null,
            "overflow_y": null,
            "padding": null,
            "right": null,
            "top": null,
            "visibility": null,
            "width": null
          }
        },
        "59ea9713466f4a198a6b22a0300f6981": {
          "model_module": "@jupyter-widgets/controls",
          "model_module_version": "1.5.0",
          "model_name": "HTMLModel",
          "state": {
            "_dom_classes": [],
            "_model_module": "@jupyter-widgets/controls",
            "_model_module_version": "1.5.0",
            "_model_name": "HTMLModel",
            "_view_count": null,
            "_view_module": "@jupyter-widgets/controls",
            "_view_module_version": "1.5.0",
            "_view_name": "HTMLView",
            "description": "",
            "description_tooltip": null,
            "layout": "IPY_MODEL_635aa30e59fb4db89c17400394346fba",
            "placeholder": "​",
            "style": "IPY_MODEL_5f22e924b588424cb25a1b96f89d141b",
            "value": "config.json: 100%"
          }
        },
        "5b637e963f184ddc8c549323531beaad": {
          "model_module": "@jupyter-widgets/controls",
          "model_module_version": "1.5.0",
          "model_name": "HBoxModel",
          "state": {
            "_dom_classes": [],
            "_model_module": "@jupyter-widgets/controls",
            "_model_module_version": "1.5.0",
            "_model_name": "HBoxModel",
            "_view_count": null,
            "_view_module": "@jupyter-widgets/controls",
            "_view_module_version": "1.5.0",
            "_view_name": "HBoxView",
            "box_style": "",
            "children": [
              "IPY_MODEL_41c693a032604f8497e3aa5fbe9fe9f6",
              "IPY_MODEL_3696e52690a34c3da7e85452c3f499ec",
              "IPY_MODEL_d3057f5b9f164b0a9bee2b1001975afc"
            ],
            "layout": "IPY_MODEL_73e9f2e9eed44cc6b7d76c4a8369c99e"
          }
        },
        "5be6dcbbc72046f9aab4dfea8f229661": {
          "model_module": "@jupyter-widgets/controls",
          "model_module_version": "1.5.0",
          "model_name": "DescriptionStyleModel",
          "state": {
            "_model_module": "@jupyter-widgets/controls",
            "_model_module_version": "1.5.0",
            "_model_name": "DescriptionStyleModel",
            "_view_count": null,
            "_view_module": "@jupyter-widgets/base",
            "_view_module_version": "1.2.0",
            "_view_name": "StyleView",
            "description_width": ""
          }
        },
        "5f0fab0fa4a74817acffa27e661e96c2": {
          "model_module": "@jupyter-widgets/controls",
          "model_module_version": "1.5.0",
          "model_name": "HTMLModel",
          "state": {
            "_dom_classes": [],
            "_model_module": "@jupyter-widgets/controls",
            "_model_module_version": "1.5.0",
            "_model_name": "HTMLModel",
            "_view_count": null,
            "_view_module": "@jupyter-widgets/controls",
            "_view_module_version": "1.5.0",
            "_view_name": "HTMLView",
            "description": "",
            "description_tooltip": null,
            "layout": "IPY_MODEL_f4562b53a7b9464db83aa41a7b310664",
            "placeholder": "​",
            "style": "IPY_MODEL_ca48ab72ebec429a834e8c4e7a4899e7",
            "value": " 232k/232k [00:00&lt;00:00, 11.2MB/s]"
          }
        },
        "5f22e924b588424cb25a1b96f89d141b": {
          "model_module": "@jupyter-widgets/controls",
          "model_module_version": "1.5.0",
          "model_name": "DescriptionStyleModel",
          "state": {
            "_model_module": "@jupyter-widgets/controls",
            "_model_module_version": "1.5.0",
            "_model_name": "DescriptionStyleModel",
            "_view_count": null,
            "_view_module": "@jupyter-widgets/base",
            "_view_module_version": "1.2.0",
            "_view_name": "StyleView",
            "description_width": ""
          }
        },
        "5f4aa27b172d4933a632a5a6de49dab3": {
          "model_module": "@jupyter-widgets/base",
          "model_module_version": "1.2.0",
          "model_name": "LayoutModel",
          "state": {
            "_model_module": "@jupyter-widgets/base",
            "_model_module_version": "1.2.0",
            "_model_name": "LayoutModel",
            "_view_count": null,
            "_view_module": "@jupyter-widgets/base",
            "_view_module_version": "1.2.0",
            "_view_name": "LayoutView",
            "align_content": null,
            "align_items": null,
            "align_self": null,
            "border": null,
            "bottom": null,
            "display": null,
            "flex": null,
            "flex_flow": null,
            "grid_area": null,
            "grid_auto_columns": null,
            "grid_auto_flow": null,
            "grid_auto_rows": null,
            "grid_column": null,
            "grid_gap": null,
            "grid_row": null,
            "grid_template_areas": null,
            "grid_template_columns": null,
            "grid_template_rows": null,
            "height": null,
            "justify_content": null,
            "justify_items": null,
            "left": null,
            "margin": null,
            "max_height": null,
            "max_width": null,
            "min_height": null,
            "min_width": null,
            "object_fit": null,
            "object_position": null,
            "order": null,
            "overflow": null,
            "overflow_x": null,
            "overflow_y": null,
            "padding": null,
            "right": null,
            "top": null,
            "visibility": null,
            "width": null
          }
        },
        "635aa30e59fb4db89c17400394346fba": {
          "model_module": "@jupyter-widgets/base",
          "model_module_version": "1.2.0",
          "model_name": "LayoutModel",
          "state": {
            "_model_module": "@jupyter-widgets/base",
            "_model_module_version": "1.2.0",
            "_model_name": "LayoutModel",
            "_view_count": null,
            "_view_module": "@jupyter-widgets/base",
            "_view_module_version": "1.2.0",
            "_view_name": "LayoutView",
            "align_content": null,
            "align_items": null,
            "align_self": null,
            "border": null,
            "bottom": null,
            "display": null,
            "flex": null,
            "flex_flow": null,
            "grid_area": null,
            "grid_auto_columns": null,
            "grid_auto_flow": null,
            "grid_auto_rows": null,
            "grid_column": null,
            "grid_gap": null,
            "grid_row": null,
            "grid_template_areas": null,
            "grid_template_columns": null,
            "grid_template_rows": null,
            "height": null,
            "justify_content": null,
            "justify_items": null,
            "left": null,
            "margin": null,
            "max_height": null,
            "max_width": null,
            "min_height": null,
            "min_width": null,
            "object_fit": null,
            "object_position": null,
            "order": null,
            "overflow": null,
            "overflow_x": null,
            "overflow_y": null,
            "padding": null,
            "right": null,
            "top": null,
            "visibility": null,
            "width": null
          }
        },
        "661cdd3615f14d2e9f73016fef02fa75": {
          "model_module": "@jupyter-widgets/controls",
          "model_module_version": "1.5.0",
          "model_name": "HTMLModel",
          "state": {
            "_dom_classes": [],
            "_model_module": "@jupyter-widgets/controls",
            "_model_module_version": "1.5.0",
            "_model_name": "HTMLModel",
            "_view_count": null,
            "_view_module": "@jupyter-widgets/controls",
            "_view_module_version": "1.5.0",
            "_view_name": "HTMLView",
            "description": "",
            "description_tooltip": null,
            "layout": "IPY_MODEL_442b374419984f72b8dc82351e490ff0",
            "placeholder": "​",
            "style": "IPY_MODEL_70a6fcc49a5840e1add1bae9c9e8298c",
            "value": " 440M/440M [00:05&lt;00:00, 80.2MB/s]"
          }
        },
        "6b23c820254741b295799dcf4c027194": {
          "model_module": "@jupyter-widgets/controls",
          "model_module_version": "1.5.0",
          "model_name": "HTMLModel",
          "state": {
            "_dom_classes": [],
            "_model_module": "@jupyter-widgets/controls",
            "_model_module_version": "1.5.0",
            "_model_name": "HTMLModel",
            "_view_count": null,
            "_view_module": "@jupyter-widgets/controls",
            "_view_module_version": "1.5.0",
            "_view_name": "HTMLView",
            "description": "",
            "description_tooltip": null,
            "layout": "IPY_MODEL_2dd14388c3ba4111822ed23c3695e1b5",
            "placeholder": "​",
            "style": "IPY_MODEL_d36071ace595498682abc1d102a74bc5",
            "value": "vocab.txt: 100%"
          }
        },
        "6b49f2824e2c4cf8888282d33f9c41ef": {
          "model_module": "@jupyter-widgets/controls",
          "model_module_version": "1.5.0",
          "model_name": "HBoxModel",
          "state": {
            "_dom_classes": [],
            "_model_module": "@jupyter-widgets/controls",
            "_model_module_version": "1.5.0",
            "_model_name": "HBoxModel",
            "_view_count": null,
            "_view_module": "@jupyter-widgets/controls",
            "_view_module_version": "1.5.0",
            "_view_name": "HBoxView",
            "box_style": "",
            "children": [
              "IPY_MODEL_59ea9713466f4a198a6b22a0300f6981",
              "IPY_MODEL_8d3ce56239d542059da4ba0ec1118eb5",
              "IPY_MODEL_c8241dd25985439da0ecdff50c681c64"
            ],
            "layout": "IPY_MODEL_43badf59d38c4071b8b85ecf563f1ee4"
          }
        },
        "6c2df46836b74d36a1085dd7a8127f84": {
          "model_module": "@jupyter-widgets/controls",
          "model_module_version": "1.5.0",
          "model_name": "FloatProgressModel",
          "state": {
            "_dom_classes": [],
            "_model_module": "@jupyter-widgets/controls",
            "_model_module_version": "1.5.0",
            "_model_name": "FloatProgressModel",
            "_view_count": null,
            "_view_module": "@jupyter-widgets/controls",
            "_view_module_version": "1.5.0",
            "_view_name": "ProgressView",
            "bar_style": "success",
            "description": "",
            "description_tooltip": null,
            "layout": "IPY_MODEL_e7dd527b926e4e4d8234113db7e4d688",
            "max": 466062,
            "min": 0,
            "orientation": "horizontal",
            "style": "IPY_MODEL_94a56d5cd8254b08b8d749b3610f81d9",
            "value": 466062
          }
        },
        "70a6fcc49a5840e1add1bae9c9e8298c": {
          "model_module": "@jupyter-widgets/controls",
          "model_module_version": "1.5.0",
          "model_name": "DescriptionStyleModel",
          "state": {
            "_model_module": "@jupyter-widgets/controls",
            "_model_module_version": "1.5.0",
            "_model_name": "DescriptionStyleModel",
            "_view_count": null,
            "_view_module": "@jupyter-widgets/base",
            "_view_module_version": "1.2.0",
            "_view_name": "StyleView",
            "description_width": ""
          }
        },
        "73e9f2e9eed44cc6b7d76c4a8369c99e": {
          "model_module": "@jupyter-widgets/base",
          "model_module_version": "1.2.0",
          "model_name": "LayoutModel",
          "state": {
            "_model_module": "@jupyter-widgets/base",
            "_model_module_version": "1.2.0",
            "_model_name": "LayoutModel",
            "_view_count": null,
            "_view_module": "@jupyter-widgets/base",
            "_view_module_version": "1.2.0",
            "_view_name": "LayoutView",
            "align_content": null,
            "align_items": null,
            "align_self": null,
            "border": null,
            "bottom": null,
            "display": null,
            "flex": null,
            "flex_flow": null,
            "grid_area": null,
            "grid_auto_columns": null,
            "grid_auto_flow": null,
            "grid_auto_rows": null,
            "grid_column": null,
            "grid_gap": null,
            "grid_row": null,
            "grid_template_areas": null,
            "grid_template_columns": null,
            "grid_template_rows": null,
            "height": null,
            "justify_content": null,
            "justify_items": null,
            "left": null,
            "margin": null,
            "max_height": null,
            "max_width": null,
            "min_height": null,
            "min_width": null,
            "object_fit": null,
            "object_position": null,
            "order": null,
            "overflow": null,
            "overflow_x": null,
            "overflow_y": null,
            "padding": null,
            "right": null,
            "top": null,
            "visibility": null,
            "width": null
          }
        },
        "7dfad3ba572f4c07954dbe5b6d59706a": {
          "model_module": "@jupyter-widgets/base",
          "model_module_version": "1.2.0",
          "model_name": "LayoutModel",
          "state": {
            "_model_module": "@jupyter-widgets/base",
            "_model_module_version": "1.2.0",
            "_model_name": "LayoutModel",
            "_view_count": null,
            "_view_module": "@jupyter-widgets/base",
            "_view_module_version": "1.2.0",
            "_view_name": "LayoutView",
            "align_content": null,
            "align_items": null,
            "align_self": null,
            "border": null,
            "bottom": null,
            "display": null,
            "flex": null,
            "flex_flow": null,
            "grid_area": null,
            "grid_auto_columns": null,
            "grid_auto_flow": null,
            "grid_auto_rows": null,
            "grid_column": null,
            "grid_gap": null,
            "grid_row": null,
            "grid_template_areas": null,
            "grid_template_columns": null,
            "grid_template_rows": null,
            "height": null,
            "justify_content": null,
            "justify_items": null,
            "left": null,
            "margin": null,
            "max_height": null,
            "max_width": null,
            "min_height": null,
            "min_width": null,
            "object_fit": null,
            "object_position": null,
            "order": null,
            "overflow": null,
            "overflow_x": null,
            "overflow_y": null,
            "padding": null,
            "right": null,
            "top": null,
            "visibility": null,
            "width": null
          }
        },
        "7e69bc7540874e54bc3565144b68077f": {
          "model_module": "@jupyter-widgets/base",
          "model_module_version": "1.2.0",
          "model_name": "LayoutModel",
          "state": {
            "_model_module": "@jupyter-widgets/base",
            "_model_module_version": "1.2.0",
            "_model_name": "LayoutModel",
            "_view_count": null,
            "_view_module": "@jupyter-widgets/base",
            "_view_module_version": "1.2.0",
            "_view_name": "LayoutView",
            "align_content": null,
            "align_items": null,
            "align_self": null,
            "border": null,
            "bottom": null,
            "display": null,
            "flex": null,
            "flex_flow": null,
            "grid_area": null,
            "grid_auto_columns": null,
            "grid_auto_flow": null,
            "grid_auto_rows": null,
            "grid_column": null,
            "grid_gap": null,
            "grid_row": null,
            "grid_template_areas": null,
            "grid_template_columns": null,
            "grid_template_rows": null,
            "height": null,
            "justify_content": null,
            "justify_items": null,
            "left": null,
            "margin": null,
            "max_height": null,
            "max_width": null,
            "min_height": null,
            "min_width": null,
            "object_fit": null,
            "object_position": null,
            "order": null,
            "overflow": null,
            "overflow_x": null,
            "overflow_y": null,
            "padding": null,
            "right": null,
            "top": null,
            "visibility": null,
            "width": null
          }
        },
        "8d3ce56239d542059da4ba0ec1118eb5": {
          "model_module": "@jupyter-widgets/controls",
          "model_module_version": "1.5.0",
          "model_name": "FloatProgressModel",
          "state": {
            "_dom_classes": [],
            "_model_module": "@jupyter-widgets/controls",
            "_model_module_version": "1.5.0",
            "_model_name": "FloatProgressModel",
            "_view_count": null,
            "_view_module": "@jupyter-widgets/controls",
            "_view_module_version": "1.5.0",
            "_view_name": "ProgressView",
            "bar_style": "success",
            "description": "",
            "description_tooltip": null,
            "layout": "IPY_MODEL_c0e5aa2c672a4d4792001f6f4238d875",
            "max": 570,
            "min": 0,
            "orientation": "horizontal",
            "style": "IPY_MODEL_1c6d4b0f66b6495181e0ab2149b3ab16",
            "value": 570
          }
        },
        "94a56d5cd8254b08b8d749b3610f81d9": {
          "model_module": "@jupyter-widgets/controls",
          "model_module_version": "1.5.0",
          "model_name": "ProgressStyleModel",
          "state": {
            "_model_module": "@jupyter-widgets/controls",
            "_model_module_version": "1.5.0",
            "_model_name": "ProgressStyleModel",
            "_view_count": null,
            "_view_module": "@jupyter-widgets/base",
            "_view_module_version": "1.2.0",
            "_view_name": "StyleView",
            "bar_color": null,
            "description_width": ""
          }
        },
        "9d6204ee73bd45fa9ace54efd2dd2e9c": {
          "model_module": "@jupyter-widgets/controls",
          "model_module_version": "1.5.0",
          "model_name": "HTMLModel",
          "state": {
            "_dom_classes": [],
            "_model_module": "@jupyter-widgets/controls",
            "_model_module_version": "1.5.0",
            "_model_name": "HTMLModel",
            "_view_count": null,
            "_view_module": "@jupyter-widgets/controls",
            "_view_module_version": "1.5.0",
            "_view_name": "HTMLView",
            "description": "",
            "description_tooltip": null,
            "layout": "IPY_MODEL_22c14b902c424c4294aa66bb6a6e1114",
            "placeholder": "​",
            "style": "IPY_MODEL_d8d71b22b9444718b2c24ce317c715b7",
            "value": "model.safetensors: 100%"
          }
        },
        "a1d1f516f9dd4046aab523d5998737eb": {
          "model_module": "@jupyter-widgets/base",
          "model_module_version": "1.2.0",
          "model_name": "LayoutModel",
          "state": {
            "_model_module": "@jupyter-widgets/base",
            "_model_module_version": "1.2.0",
            "_model_name": "LayoutModel",
            "_view_count": null,
            "_view_module": "@jupyter-widgets/base",
            "_view_module_version": "1.2.0",
            "_view_name": "LayoutView",
            "align_content": null,
            "align_items": null,
            "align_self": null,
            "border": null,
            "bottom": null,
            "display": null,
            "flex": null,
            "flex_flow": null,
            "grid_area": null,
            "grid_auto_columns": null,
            "grid_auto_flow": null,
            "grid_auto_rows": null,
            "grid_column": null,
            "grid_gap": null,
            "grid_row": null,
            "grid_template_areas": null,
            "grid_template_columns": null,
            "grid_template_rows": null,
            "height": null,
            "justify_content": null,
            "justify_items": null,
            "left": null,
            "margin": null,
            "max_height": null,
            "max_width": null,
            "min_height": null,
            "min_width": null,
            "object_fit": null,
            "object_position": null,
            "order": null,
            "overflow": null,
            "overflow_x": null,
            "overflow_y": null,
            "padding": null,
            "right": null,
            "top": null,
            "visibility": null,
            "width": null
          }
        },
        "a21ac85e8c564f469356e087974a43a6": {
          "model_module": "@jupyter-widgets/controls",
          "model_module_version": "1.5.0",
          "model_name": "HBoxModel",
          "state": {
            "_dom_classes": [],
            "_model_module": "@jupyter-widgets/controls",
            "_model_module_version": "1.5.0",
            "_model_name": "HBoxModel",
            "_view_count": null,
            "_view_module": "@jupyter-widgets/controls",
            "_view_module_version": "1.5.0",
            "_view_name": "HBoxView",
            "box_style": "",
            "children": [
              "IPY_MODEL_f8b1da25beea4404a83d3cab7557eeab",
              "IPY_MODEL_6c2df46836b74d36a1085dd7a8127f84",
              "IPY_MODEL_0604cde93f234da5ad220bbf96579046"
            ],
            "layout": "IPY_MODEL_391f5016d438440d95d031057c68f1a3"
          }
        },
        "a54461a24bac4f89b9b6cbff67f54682": {
          "model_module": "@jupyter-widgets/base",
          "model_module_version": "1.2.0",
          "model_name": "LayoutModel",
          "state": {
            "_model_module": "@jupyter-widgets/base",
            "_model_module_version": "1.2.0",
            "_model_name": "LayoutModel",
            "_view_count": null,
            "_view_module": "@jupyter-widgets/base",
            "_view_module_version": "1.2.0",
            "_view_name": "LayoutView",
            "align_content": null,
            "align_items": null,
            "align_self": null,
            "border": null,
            "bottom": null,
            "display": null,
            "flex": null,
            "flex_flow": null,
            "grid_area": null,
            "grid_auto_columns": null,
            "grid_auto_flow": null,
            "grid_auto_rows": null,
            "grid_column": null,
            "grid_gap": null,
            "grid_row": null,
            "grid_template_areas": null,
            "grid_template_columns": null,
            "grid_template_rows": null,
            "height": null,
            "justify_content": null,
            "justify_items": null,
            "left": null,
            "margin": null,
            "max_height": null,
            "max_width": null,
            "min_height": null,
            "min_width": null,
            "object_fit": null,
            "object_position": null,
            "order": null,
            "overflow": null,
            "overflow_x": null,
            "overflow_y": null,
            "padding": null,
            "right": null,
            "top": null,
            "visibility": null,
            "width": null
          }
        },
        "ab003141141849f498616b7a6cb1e45f": {
          "model_module": "@jupyter-widgets/base",
          "model_module_version": "1.2.0",
          "model_name": "LayoutModel",
          "state": {
            "_model_module": "@jupyter-widgets/base",
            "_model_module_version": "1.2.0",
            "_model_name": "LayoutModel",
            "_view_count": null,
            "_view_module": "@jupyter-widgets/base",
            "_view_module_version": "1.2.0",
            "_view_name": "LayoutView",
            "align_content": null,
            "align_items": null,
            "align_self": null,
            "border": null,
            "bottom": null,
            "display": null,
            "flex": null,
            "flex_flow": null,
            "grid_area": null,
            "grid_auto_columns": null,
            "grid_auto_flow": null,
            "grid_auto_rows": null,
            "grid_column": null,
            "grid_gap": null,
            "grid_row": null,
            "grid_template_areas": null,
            "grid_template_columns": null,
            "grid_template_rows": null,
            "height": null,
            "justify_content": null,
            "justify_items": null,
            "left": null,
            "margin": null,
            "max_height": null,
            "max_width": null,
            "min_height": null,
            "min_width": null,
            "object_fit": null,
            "object_position": null,
            "order": null,
            "overflow": null,
            "overflow_x": null,
            "overflow_y": null,
            "padding": null,
            "right": null,
            "top": null,
            "visibility": null,
            "width": null
          }
        },
        "ad3dde8678064746aa76a6019415da13": {
          "model_module": "@jupyter-widgets/controls",
          "model_module_version": "1.5.0",
          "model_name": "DescriptionStyleModel",
          "state": {
            "_model_module": "@jupyter-widgets/controls",
            "_model_module_version": "1.5.0",
            "_model_name": "DescriptionStyleModel",
            "_view_count": null,
            "_view_module": "@jupyter-widgets/base",
            "_view_module_version": "1.2.0",
            "_view_name": "StyleView",
            "description_width": ""
          }
        },
        "af5b87f30ed34c4891b05dc2d2eb1c72": {
          "model_module": "@jupyter-widgets/base",
          "model_module_version": "1.2.0",
          "model_name": "LayoutModel",
          "state": {
            "_model_module": "@jupyter-widgets/base",
            "_model_module_version": "1.2.0",
            "_model_name": "LayoutModel",
            "_view_count": null,
            "_view_module": "@jupyter-widgets/base",
            "_view_module_version": "1.2.0",
            "_view_name": "LayoutView",
            "align_content": null,
            "align_items": null,
            "align_self": null,
            "border": null,
            "bottom": null,
            "display": null,
            "flex": null,
            "flex_flow": null,
            "grid_area": null,
            "grid_auto_columns": null,
            "grid_auto_flow": null,
            "grid_auto_rows": null,
            "grid_column": null,
            "grid_gap": null,
            "grid_row": null,
            "grid_template_areas": null,
            "grid_template_columns": null,
            "grid_template_rows": null,
            "height": null,
            "justify_content": null,
            "justify_items": null,
            "left": null,
            "margin": null,
            "max_height": null,
            "max_width": null,
            "min_height": null,
            "min_width": null,
            "object_fit": null,
            "object_position": null,
            "order": null,
            "overflow": null,
            "overflow_x": null,
            "overflow_y": null,
            "padding": null,
            "right": null,
            "top": null,
            "visibility": null,
            "width": null
          }
        },
        "b4096751e35842838b49a121c0d282b5": {
          "model_module": "@jupyter-widgets/controls",
          "model_module_version": "1.5.0",
          "model_name": "DescriptionStyleModel",
          "state": {
            "_model_module": "@jupyter-widgets/controls",
            "_model_module_version": "1.5.0",
            "_model_name": "DescriptionStyleModel",
            "_view_count": null,
            "_view_module": "@jupyter-widgets/base",
            "_view_module_version": "1.2.0",
            "_view_name": "StyleView",
            "description_width": ""
          }
        },
        "c0e5aa2c672a4d4792001f6f4238d875": {
          "model_module": "@jupyter-widgets/base",
          "model_module_version": "1.2.0",
          "model_name": "LayoutModel",
          "state": {
            "_model_module": "@jupyter-widgets/base",
            "_model_module_version": "1.2.0",
            "_model_name": "LayoutModel",
            "_view_count": null,
            "_view_module": "@jupyter-widgets/base",
            "_view_module_version": "1.2.0",
            "_view_name": "LayoutView",
            "align_content": null,
            "align_items": null,
            "align_self": null,
            "border": null,
            "bottom": null,
            "display": null,
            "flex": null,
            "flex_flow": null,
            "grid_area": null,
            "grid_auto_columns": null,
            "grid_auto_flow": null,
            "grid_auto_rows": null,
            "grid_column": null,
            "grid_gap": null,
            "grid_row": null,
            "grid_template_areas": null,
            "grid_template_columns": null,
            "grid_template_rows": null,
            "height": null,
            "justify_content": null,
            "justify_items": null,
            "left": null,
            "margin": null,
            "max_height": null,
            "max_width": null,
            "min_height": null,
            "min_width": null,
            "object_fit": null,
            "object_position": null,
            "order": null,
            "overflow": null,
            "overflow_x": null,
            "overflow_y": null,
            "padding": null,
            "right": null,
            "top": null,
            "visibility": null,
            "width": null
          }
        },
        "c2380880b0534a38a83e8f151457201a": {
          "model_module": "@jupyter-widgets/controls",
          "model_module_version": "1.5.0",
          "model_name": "DescriptionStyleModel",
          "state": {
            "_model_module": "@jupyter-widgets/controls",
            "_model_module_version": "1.5.0",
            "_model_name": "DescriptionStyleModel",
            "_view_count": null,
            "_view_module": "@jupyter-widgets/base",
            "_view_module_version": "1.2.0",
            "_view_name": "StyleView",
            "description_width": ""
          }
        },
        "c6965053019a428c994ff3fdfeb5d8c5": {
          "model_module": "@jupyter-widgets/base",
          "model_module_version": "1.2.0",
          "model_name": "LayoutModel",
          "state": {
            "_model_module": "@jupyter-widgets/base",
            "_model_module_version": "1.2.0",
            "_model_name": "LayoutModel",
            "_view_count": null,
            "_view_module": "@jupyter-widgets/base",
            "_view_module_version": "1.2.0",
            "_view_name": "LayoutView",
            "align_content": null,
            "align_items": null,
            "align_self": null,
            "border": null,
            "bottom": null,
            "display": null,
            "flex": null,
            "flex_flow": null,
            "grid_area": null,
            "grid_auto_columns": null,
            "grid_auto_flow": null,
            "grid_auto_rows": null,
            "grid_column": null,
            "grid_gap": null,
            "grid_row": null,
            "grid_template_areas": null,
            "grid_template_columns": null,
            "grid_template_rows": null,
            "height": null,
            "justify_content": null,
            "justify_items": null,
            "left": null,
            "margin": null,
            "max_height": null,
            "max_width": null,
            "min_height": null,
            "min_width": null,
            "object_fit": null,
            "object_position": null,
            "order": null,
            "overflow": null,
            "overflow_x": null,
            "overflow_y": null,
            "padding": null,
            "right": null,
            "top": null,
            "visibility": null,
            "width": null
          }
        },
        "c8241dd25985439da0ecdff50c681c64": {
          "model_module": "@jupyter-widgets/controls",
          "model_module_version": "1.5.0",
          "model_name": "HTMLModel",
          "state": {
            "_dom_classes": [],
            "_model_module": "@jupyter-widgets/controls",
            "_model_module_version": "1.5.0",
            "_model_name": "HTMLModel",
            "_view_count": null,
            "_view_module": "@jupyter-widgets/controls",
            "_view_module_version": "1.5.0",
            "_view_name": "HTMLView",
            "description": "",
            "description_tooltip": null,
            "layout": "IPY_MODEL_a54461a24bac4f89b9b6cbff67f54682",
            "placeholder": "​",
            "style": "IPY_MODEL_ad3dde8678064746aa76a6019415da13",
            "value": " 570/570 [00:00&lt;00:00, 45.4kB/s]"
          }
        },
        "ca48ab72ebec429a834e8c4e7a4899e7": {
          "model_module": "@jupyter-widgets/controls",
          "model_module_version": "1.5.0",
          "model_name": "DescriptionStyleModel",
          "state": {
            "_model_module": "@jupyter-widgets/controls",
            "_model_module_version": "1.5.0",
            "_model_name": "DescriptionStyleModel",
            "_view_count": null,
            "_view_module": "@jupyter-widgets/base",
            "_view_module_version": "1.2.0",
            "_view_name": "StyleView",
            "description_width": ""
          }
        },
        "d09c40207fb34812bb3edf37af6b53ec": {
          "model_module": "@jupyter-widgets/controls",
          "model_module_version": "1.5.0",
          "model_name": "FloatProgressModel",
          "state": {
            "_dom_classes": [],
            "_model_module": "@jupyter-widgets/controls",
            "_model_module_version": "1.5.0",
            "_model_name": "FloatProgressModel",
            "_view_count": null,
            "_view_module": "@jupyter-widgets/controls",
            "_view_module_version": "1.5.0",
            "_view_name": "ProgressView",
            "bar_style": "success",
            "description": "",
            "description_tooltip": null,
            "layout": "IPY_MODEL_7e69bc7540874e54bc3565144b68077f",
            "max": 440449768,
            "min": 0,
            "orientation": "horizontal",
            "style": "IPY_MODEL_0cc110c57c3b4e929f6ad26f36f4b42d",
            "value": 440449768
          }
        },
        "d3057f5b9f164b0a9bee2b1001975afc": {
          "model_module": "@jupyter-widgets/controls",
          "model_module_version": "1.5.0",
          "model_name": "HTMLModel",
          "state": {
            "_dom_classes": [],
            "_model_module": "@jupyter-widgets/controls",
            "_model_module_version": "1.5.0",
            "_model_name": "HTMLModel",
            "_view_count": null,
            "_view_module": "@jupyter-widgets/controls",
            "_view_module_version": "1.5.0",
            "_view_name": "HTMLView",
            "description": "",
            "description_tooltip": null,
            "layout": "IPY_MODEL_102aa5aa308049c8a9aaa5c35eb78753",
            "placeholder": "​",
            "style": "IPY_MODEL_5be6dcbbc72046f9aab4dfea8f229661",
            "value": " 48.0/48.0 [00:00&lt;00:00, 3.32kB/s]"
          }
        },
        "d32c04ef47d1459685d49695c2247706": {
          "model_module": "@jupyter-widgets/controls",
          "model_module_version": "1.5.0",
          "model_name": "DescriptionStyleModel",
          "state": {
            "_model_module": "@jupyter-widgets/controls",
            "_model_module_version": "1.5.0",
            "_model_name": "DescriptionStyleModel",
            "_view_count": null,
            "_view_module": "@jupyter-widgets/base",
            "_view_module_version": "1.2.0",
            "_view_name": "StyleView",
            "description_width": ""
          }
        },
        "d36071ace595498682abc1d102a74bc5": {
          "model_module": "@jupyter-widgets/controls",
          "model_module_version": "1.5.0",
          "model_name": "DescriptionStyleModel",
          "state": {
            "_model_module": "@jupyter-widgets/controls",
            "_model_module_version": "1.5.0",
            "_model_name": "DescriptionStyleModel",
            "_view_count": null,
            "_view_module": "@jupyter-widgets/base",
            "_view_module_version": "1.2.0",
            "_view_name": "StyleView",
            "description_width": ""
          }
        },
        "d8d71b22b9444718b2c24ce317c715b7": {
          "model_module": "@jupyter-widgets/controls",
          "model_module_version": "1.5.0",
          "model_name": "DescriptionStyleModel",
          "state": {
            "_model_module": "@jupyter-widgets/controls",
            "_model_module_version": "1.5.0",
            "_model_name": "DescriptionStyleModel",
            "_view_count": null,
            "_view_module": "@jupyter-widgets/base",
            "_view_module_version": "1.2.0",
            "_view_name": "StyleView",
            "description_width": ""
          }
        },
        "daef11acf7a944ef8697d8a45bc72d20": {
          "model_module": "@jupyter-widgets/base",
          "model_module_version": "1.2.0",
          "model_name": "LayoutModel",
          "state": {
            "_model_module": "@jupyter-widgets/base",
            "_model_module_version": "1.2.0",
            "_model_name": "LayoutModel",
            "_view_count": null,
            "_view_module": "@jupyter-widgets/base",
            "_view_module_version": "1.2.0",
            "_view_name": "LayoutView",
            "align_content": null,
            "align_items": null,
            "align_self": null,
            "border": null,
            "bottom": null,
            "display": null,
            "flex": null,
            "flex_flow": null,
            "grid_area": null,
            "grid_auto_columns": null,
            "grid_auto_flow": null,
            "grid_auto_rows": null,
            "grid_column": null,
            "grid_gap": null,
            "grid_row": null,
            "grid_template_areas": null,
            "grid_template_columns": null,
            "grid_template_rows": null,
            "height": null,
            "justify_content": null,
            "justify_items": null,
            "left": null,
            "margin": null,
            "max_height": null,
            "max_width": null,
            "min_height": null,
            "min_width": null,
            "object_fit": null,
            "object_position": null,
            "order": null,
            "overflow": null,
            "overflow_x": null,
            "overflow_y": null,
            "padding": null,
            "right": null,
            "top": null,
            "visibility": null,
            "width": null
          }
        },
        "e570287cc7c44103bb24f54c70341825": {
          "model_module": "@jupyter-widgets/controls",
          "model_module_version": "1.5.0",
          "model_name": "ProgressStyleModel",
          "state": {
            "_model_module": "@jupyter-widgets/controls",
            "_model_module_version": "1.5.0",
            "_model_name": "ProgressStyleModel",
            "_view_count": null,
            "_view_module": "@jupyter-widgets/base",
            "_view_module_version": "1.2.0",
            "_view_name": "StyleView",
            "bar_color": null,
            "description_width": ""
          }
        },
        "e7dd527b926e4e4d8234113db7e4d688": {
          "model_module": "@jupyter-widgets/base",
          "model_module_version": "1.2.0",
          "model_name": "LayoutModel",
          "state": {
            "_model_module": "@jupyter-widgets/base",
            "_model_module_version": "1.2.0",
            "_model_name": "LayoutModel",
            "_view_count": null,
            "_view_module": "@jupyter-widgets/base",
            "_view_module_version": "1.2.0",
            "_view_name": "LayoutView",
            "align_content": null,
            "align_items": null,
            "align_self": null,
            "border": null,
            "bottom": null,
            "display": null,
            "flex": null,
            "flex_flow": null,
            "grid_area": null,
            "grid_auto_columns": null,
            "grid_auto_flow": null,
            "grid_auto_rows": null,
            "grid_column": null,
            "grid_gap": null,
            "grid_row": null,
            "grid_template_areas": null,
            "grid_template_columns": null,
            "grid_template_rows": null,
            "height": null,
            "justify_content": null,
            "justify_items": null,
            "left": null,
            "margin": null,
            "max_height": null,
            "max_width": null,
            "min_height": null,
            "min_width": null,
            "object_fit": null,
            "object_position": null,
            "order": null,
            "overflow": null,
            "overflow_x": null,
            "overflow_y": null,
            "padding": null,
            "right": null,
            "top": null,
            "visibility": null,
            "width": null
          }
        },
        "f12e78a66af349cebed212df16248170": {
          "model_module": "@jupyter-widgets/controls",
          "model_module_version": "1.5.0",
          "model_name": "HBoxModel",
          "state": {
            "_dom_classes": [],
            "_model_module": "@jupyter-widgets/controls",
            "_model_module_version": "1.5.0",
            "_model_name": "HBoxModel",
            "_view_count": null,
            "_view_module": "@jupyter-widgets/controls",
            "_view_module_version": "1.5.0",
            "_view_name": "HBoxView",
            "box_style": "",
            "children": [
              "IPY_MODEL_9d6204ee73bd45fa9ace54efd2dd2e9c",
              "IPY_MODEL_d09c40207fb34812bb3edf37af6b53ec",
              "IPY_MODEL_661cdd3615f14d2e9f73016fef02fa75"
            ],
            "layout": "IPY_MODEL_ab003141141849f498616b7a6cb1e45f"
          }
        },
        "f306e45b44b74dfe92061c8770274be6": {
          "model_module": "@jupyter-widgets/controls",
          "model_module_version": "1.5.0",
          "model_name": "FloatProgressModel",
          "state": {
            "_dom_classes": [],
            "_model_module": "@jupyter-widgets/controls",
            "_model_module_version": "1.5.0",
            "_model_name": "FloatProgressModel",
            "_view_count": null,
            "_view_module": "@jupyter-widgets/controls",
            "_view_module_version": "1.5.0",
            "_view_name": "ProgressView",
            "bar_style": "success",
            "description": "",
            "description_tooltip": null,
            "layout": "IPY_MODEL_5f4aa27b172d4933a632a5a6de49dab3",
            "max": 231508,
            "min": 0,
            "orientation": "horizontal",
            "style": "IPY_MODEL_e570287cc7c44103bb24f54c70341825",
            "value": 231508
          }
        },
        "f4562b53a7b9464db83aa41a7b310664": {
          "model_module": "@jupyter-widgets/base",
          "model_module_version": "1.2.0",
          "model_name": "LayoutModel",
          "state": {
            "_model_module": "@jupyter-widgets/base",
            "_model_module_version": "1.2.0",
            "_model_name": "LayoutModel",
            "_view_count": null,
            "_view_module": "@jupyter-widgets/base",
            "_view_module_version": "1.2.0",
            "_view_name": "LayoutView",
            "align_content": null,
            "align_items": null,
            "align_self": null,
            "border": null,
            "bottom": null,
            "display": null,
            "flex": null,
            "flex_flow": null,
            "grid_area": null,
            "grid_auto_columns": null,
            "grid_auto_flow": null,
            "grid_auto_rows": null,
            "grid_column": null,
            "grid_gap": null,
            "grid_row": null,
            "grid_template_areas": null,
            "grid_template_columns": null,
            "grid_template_rows": null,
            "height": null,
            "justify_content": null,
            "justify_items": null,
            "left": null,
            "margin": null,
            "max_height": null,
            "max_width": null,
            "min_height": null,
            "min_width": null,
            "object_fit": null,
            "object_position": null,
            "order": null,
            "overflow": null,
            "overflow_x": null,
            "overflow_y": null,
            "padding": null,
            "right": null,
            "top": null,
            "visibility": null,
            "width": null
          }
        },
        "f8b1da25beea4404a83d3cab7557eeab": {
          "model_module": "@jupyter-widgets/controls",
          "model_module_version": "1.5.0",
          "model_name": "HTMLModel",
          "state": {
            "_dom_classes": [],
            "_model_module": "@jupyter-widgets/controls",
            "_model_module_version": "1.5.0",
            "_model_name": "HTMLModel",
            "_view_count": null,
            "_view_module": "@jupyter-widgets/controls",
            "_view_module_version": "1.5.0",
            "_view_name": "HTMLView",
            "description": "",
            "description_tooltip": null,
            "layout": "IPY_MODEL_af5b87f30ed34c4891b05dc2d2eb1c72",
            "placeholder": "​",
            "style": "IPY_MODEL_b4096751e35842838b49a121c0d282b5",
            "value": "tokenizer.json: 100%"
          }
        }
      }
    }
  },
  "nbformat": 4,
  "nbformat_minor": 0
}
